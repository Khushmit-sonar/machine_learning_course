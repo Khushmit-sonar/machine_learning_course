{
  "nbformat": 4,
  "nbformat_minor": 0,
  "metadata": {
    "colab": {
      "provenance": []
    },
    "kernelspec": {
      "name": "python3",
      "display_name": "Python 3"
    },
    "language_info": {
      "name": "python"
    }
  },
  "cells": [
    {
      "cell_type": "markdown",
      "source": [
        "Pandas uses:-\n",
        "a. data manipulation\n",
        "\n",
        "b.visualisation\n",
        "\n",
        "c.building ML Model\n",
        "\n",
        "Important Data-Structure in Pandas\n",
        "\n",
        "A. Series\n",
        "\n",
        "b. Dataframe -> table\n",
        "\n",
        "c. salary -> One Attribute in the table\n",
        "\n",
        "> Indented block\n",
        "\n"
      ],
      "metadata": {
        "id": "aTqjI2W_Nb5-"
      }
    },
    {
      "cell_type": "code",
      "source": [
        "import pandas as pd\n"
      ],
      "metadata": {
        "id": "eBN5b63jNprF"
      },
      "execution_count": 1,
      "outputs": []
    },
    {
      "cell_type": "code",
      "source": [
        "a = pd.Series([1,2,3,4,5])\n",
        "a[2]\n",
        "print(a)"
      ],
      "metadata": {
        "colab": {
          "base_uri": "https://localhost:8080/"
        },
        "id": "jcofKTLAab2F",
        "outputId": "a437c3f1-662c-4546-f732-015b73476492"
      },
      "execution_count": 5,
      "outputs": [
        {
          "output_type": "stream",
          "name": "stdout",
          "text": [
            "0    1\n",
            "1    2\n",
            "2    3\n",
            "3    4\n",
            "4    5\n",
            "dtype: int64\n"
          ]
        }
      ]
    },
    {
      "cell_type": "code",
      "source": [
        "a  = pd.Series(['a','b','c'])\n",
        "a"
      ],
      "metadata": {
        "colab": {
          "base_uri": "https://localhost:8080/"
        },
        "id": "5VIROFQwia_N",
        "outputId": "fde0b1c4-6a66-467c-efea-762a0e2b5d37"
      },
      "execution_count": 6,
      "outputs": [
        {
          "output_type": "execute_result",
          "data": {
            "text/plain": [
              "0    a\n",
              "1    b\n",
              "2    c\n",
              "dtype: object"
            ]
          },
          "metadata": {},
          "execution_count": 6
        }
      ]
    },
    {
      "cell_type": "code",
      "source": [
        "a = pd.date_range(start ='01-01-2018', end = '21-01-2018')\n",
        "print(a)"
      ],
      "metadata": {
        "colab": {
          "base_uri": "https://localhost:8080/"
        },
        "id": "qCsty_YnilIT",
        "outputId": "009bc99e-0869-4af9-9383-bed42120cf47"
      },
      "execution_count": 8,
      "outputs": [
        {
          "output_type": "stream",
          "name": "stdout",
          "text": [
            "DatetimeIndex(['2018-01-01', '2018-01-02', '2018-01-03', '2018-01-04',\n",
            "               '2018-01-05', '2018-01-06', '2018-01-07', '2018-01-08',\n",
            "               '2018-01-09', '2018-01-10', '2018-01-11', '2018-01-12',\n",
            "               '2018-01-13', '2018-01-14', '2018-01-15', '2018-01-16',\n",
            "               '2018-01-17', '2018-01-18', '2018-01-19', '2018-01-20',\n",
            "               '2018-01-21'],\n",
            "              dtype='datetime64[ns]', freq='D')\n"
          ]
        }
      ]
    },
    {
      "cell_type": "code",
      "source": [
        "type(a)"
      ],
      "metadata": {
        "colab": {
          "base_uri": "https://localhost:8080/"
        },
        "id": "vUzkK4m3jRec",
        "outputId": "27c03c5f-0a2f-4092-b903-d5e77b326e8b"
      },
      "execution_count": 9,
      "outputs": [
        {
          "output_type": "execute_result",
          "data": {
            "text/plain": [
              "pandas.core.indexes.datetimes.DatetimeIndex"
            ]
          },
          "metadata": {},
          "execution_count": 9
        }
      ]
    }
  ]
}