{
  "nbformat": 4,
  "nbformat_minor": 0,
  "metadata": {
    "colab": {
      "provenance": []
    },
    "kernelspec": {
      "name": "python3",
      "display_name": "Python 3"
    },
    "language_info": {
      "name": "python"
    }
  },
  "cells": [
    {
      "cell_type": "code",
      "execution_count": 1,
      "metadata": {
        "id": "bxAM8LgbkA28"
      },
      "outputs": [],
      "source": [
        "import numpy as np\n",
        "import pandas as pd"
      ]
    },
    {
      "cell_type": "code",
      "source": [
        "temp = np.random.randint(low = 20, high =100,size = [20,])\n",
        "name = np.random.choice(['khushmit','smit','lalit','anay',],20)\n",
        "random =np.random.choice([10,14,15,17],20)\n",
        "print(\"-----------------------------------------------------------\")\n",
        "print(name,\"      \",temp,\"    \",random)\n",
        "print(\"-------------------------------------------------------------\")\n",
        "\n",
        "a = list(zip(temp,name,random))"
      ],
      "metadata": {
        "colab": {
          "base_uri": "https://localhost:8080/"
        },
        "id": "iEjG4kDsmS_b",
        "outputId": "ce3fd0b7-25d3-45de-c88a-9aa732e1fda7"
      },
      "execution_count": 9,
      "outputs": [
        {
          "output_type": "stream",
          "name": "stdout",
          "text": [
            "-----------------------------------------------------------\n",
            "['smit' 'khushmit' 'lalit' 'khushmit' 'anay' 'lalit' 'lalit' 'khushmit'\n",
            " 'lalit' 'smit' 'khushmit' 'anay' 'smit' 'lalit' 'lalit' 'lalit' 'anay'\n",
            " 'smit' 'khushmit' 'smit']        [62 87 46 83 76 91 44 98 26 40 30 51 67 97 78 60 44 95 78 86]      [10 14 10 14 10 17 15 14 17 10 14 10 15 10 17 14 17 10 10 14]\n",
            "-------------------------------------------------------------\n"
          ]
        }
      ]
    },
    {
      "cell_type": "code",
      "source": [
        "print(a)\n",
        "print(type(a))"
      ],
      "metadata": {
        "colab": {
          "base_uri": "https://localhost:8080/"
        },
        "id": "wpAYgmeXnxWN",
        "outputId": "72407415-b8f8-4f30-c3ef-0f1043bb9fbd"
      },
      "execution_count": 11,
      "outputs": [
        {
          "output_type": "stream",
          "name": "stdout",
          "text": [
            "[(62, 'smit', 10), (87, 'khushmit', 14), (46, 'lalit', 10), (83, 'khushmit', 14), (76, 'anay', 10), (91, 'lalit', 17), (44, 'lalit', 15), (98, 'khushmit', 14), (26, 'lalit', 17), (40, 'smit', 10), (30, 'khushmit', 14), (51, 'anay', 10), (67, 'smit', 15), (97, 'lalit', 10), (78, 'lalit', 17), (60, 'lalit', 14), (44, 'anay', 17), (95, 'smit', 10), (78, 'khushmit', 10), (86, 'smit', 14)]\n",
            "<class 'list'>\n"
          ]
        }
      ]
    },
    {
      "cell_type": "code",
      "source": [
        "df = pd.DataFrame(data = a,columns=['temp','name','random'])\n",
        "print(df)\n",
        "print(type(df))"
      ],
      "metadata": {
        "colab": {
          "base_uri": "https://localhost:8080/"
        },
        "id": "IrHCkbAbn9hH",
        "outputId": "6c97def2-fc44-4472-c5dd-6ccd01d764cb"
      },
      "execution_count": 13,
      "outputs": [
        {
          "output_type": "stream",
          "name": "stdout",
          "text": [
            "    temp      name  random\n",
            "0     62      smit      10\n",
            "1     87  khushmit      14\n",
            "2     46     lalit      10\n",
            "3     83  khushmit      14\n",
            "4     76      anay      10\n",
            "5     91     lalit      17\n",
            "6     44     lalit      15\n",
            "7     98  khushmit      14\n",
            "8     26     lalit      17\n",
            "9     40      smit      10\n",
            "10    30  khushmit      14\n",
            "11    51      anay      10\n",
            "12    67      smit      15\n",
            "13    97     lalit      10\n",
            "14    78     lalit      17\n",
            "15    60     lalit      14\n",
            "16    44      anay      17\n",
            "17    95      smit      10\n",
            "18    78  khushmit      10\n",
            "19    86      smit      14\n",
            "<class 'pandas.core.frame.DataFrame'>\n"
          ]
        }
      ]
    },
    {
      "cell_type": "code",
      "source": [],
      "metadata": {
        "id": "7z-U7Lsyoct3"
      },
      "execution_count": null,
      "outputs": []
    }
  ]
}