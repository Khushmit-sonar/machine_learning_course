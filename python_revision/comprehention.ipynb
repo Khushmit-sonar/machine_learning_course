{
  "nbformat": 4,
  "nbformat_minor": 0,
  "metadata": {
    "colab": {
      "provenance": []
    },
    "kernelspec": {
      "name": "python3",
      "display_name": "Python 3"
    },
    "language_info": {
      "name": "python"
    }
  },
  "cells": [
    {
      "cell_type": "code",
      "execution_count": 1,
      "metadata": {
        "colab": {
          "base_uri": "https://localhost:8080/"
        },
        "id": "h1T-epNh7LdG",
        "outputId": "d2b89eca-a98e-4bfc-9bbf-be0f9f04b192"
      },
      "outputs": [
        {
          "output_type": "stream",
          "name": "stdout",
          "text": [
            "###With out comprehention\n",
            "[1, 4, 9, 16, 25, 36, 49, 64, 81]\n"
          ]
        }
      ],
      "source": [
        "print(\"###Without comprehention\")\n",
        "\n",
        "square_list =[]\n",
        "for x in range(1,10):\n",
        "  square_list.append(x**2)\n",
        "print(square_list)"
      ]
    },
    {
      "cell_type": "code",
      "source": [
        "print(\"##### with comprehention\")\n",
        "square_list = []\n",
        "square_list =[x**2 for x in range(1,10)]\n",
        "print(square_list)"
      ],
      "metadata": {
        "colab": {
          "base_uri": "https://localhost:8080/"
        },
        "id": "5sGeJNBTAS3Y",
        "outputId": "c1c155f5-7288-4430-e355-a66065cd5c12"
      },
      "execution_count": 2,
      "outputs": [
        {
          "output_type": "stream",
          "name": "stdout",
          "text": [
            "##### with comprehention\n",
            "[1, 4, 9, 16, 25, 36, 49, 64, 81]\n"
          ]
        }
      ]
    },
    {
      "cell_type": "code",
      "source": [
        "para = [\"hey i am khushmit\",\"i am in vu\",\"completing b.tech in computer science\",\"i like to play cricket\"]\n",
        "\n",
        "single_world_list = []\n",
        "print(\"#### without comprehention\")\n",
        "for sentence in para:\n",
        "  for word in sentence.split():\n",
        "    single_world_list.append(word)\n",
        "\n",
        "print(single_world_list)   \n",
        "\n",
        "\n",
        "\n",
        "\n",
        "print(\"### with comprehention\")\n",
        "single_world_list =[word for sentence in para for word in sentence.split()]\n",
        "print(single_world_list)\n"
      ],
      "metadata": {
        "colab": {
          "base_uri": "https://localhost:8080/"
        },
        "id": "Qh3f6WslBb3T",
        "outputId": "9518101e-ca5a-4a18-d618-19fd9e2633d6"
      },
      "execution_count": 6,
      "outputs": [
        {
          "output_type": "stream",
          "name": "stdout",
          "text": [
            "#### without comprehention\n",
            "['hey', 'i', 'am', 'khushmit', 'i', 'am', 'in', 'vu', 'completing', 'b.tech', 'in', 'computer', 'science', 'i', 'like', 'to', 'play', 'cricket']\n",
            "### with comprehention\n",
            "['hey', 'i', 'am', 'khushmit', 'i', 'am', 'in', 'vu', 'completing', 'b.tech', 'in', 'computer', 'science', 'i', 'like', 'to', 'play', 'cricket']\n"
          ]
        }
      ]
    },
    {
      "cell_type": "code",
      "source": [
        "para = [\"hey i am khushmit\",\"i am in vu\",\"completing b.tech in computer science\",\"i like to play cricket\"]\n",
        "vowels =[\"a\",\"e\",\"i\",\"o\",\"u\"]\n",
        "vowels_in_para =[]\n",
        "print(\"###without comprehention\")\n",
        "for sentence in para:\n",
        "  for word in sentence.split():\n",
        "    if word[0].lower() in vowels:\n",
        "      vowels_in_para.append(word)\n",
        "\n",
        "print(vowels_in_para)  \n",
        "\n",
        "\n",
        "print(\"### with comprehention\")\n",
        "vowels_in_para =[word for sentence in para for word in sentence.split() if word[0].lower() in vowels]\n",
        "print(vowels_in_para)"
      ],
      "metadata": {
        "colab": {
          "base_uri": "https://localhost:8080/"
        },
        "id": "x8cWUa3wDxFY",
        "outputId": "26e69fcf-6034-4f27-c05e-5fbe3ecfb28f"
      },
      "execution_count": 11,
      "outputs": [
        {
          "output_type": "stream",
          "name": "stdout",
          "text": [
            "###without comprehention\n",
            "['i', 'am', 'i', 'am', 'in', 'in', 'i']\n",
            "### with comprehention\n",
            "['i', 'am', 'i', 'am', 'in', 'in', 'i']\n"
          ]
        }
      ]
    }
  ]
}