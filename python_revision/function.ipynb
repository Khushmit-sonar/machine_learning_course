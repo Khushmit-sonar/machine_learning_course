{
  "nbformat": 4,
  "nbformat_minor": 0,
  "metadata": {
    "colab": {
      "provenance": []
    },
    "kernelspec": {
      "name": "python3",
      "display_name": "Python 3"
    },
    "language_info": {
      "name": "python"
    }
  },
  "cells": [
    {
      "cell_type": "markdown",
      "source": [
        "**Function in Python(Basic to Advance...)**"
      ],
      "metadata": {
        "id": "XHVIFbpZFrQ7"
      }
    },
    {
      "cell_type": "code",
      "source": [
        "##basic function with syntax\n",
        "\n",
        "def hello_world():\n",
        "  print(\"hello world\")\n",
        "\n",
        "hello_world()  "
      ],
      "metadata": {
        "colab": {
          "base_uri": "https://localhost:8080/"
        },
        "id": "jdIjCZtsF6rF",
        "outputId": "05bf29c1-887d-404d-c4f6-c7c3d3d0ace9"
      },
      "execution_count": 1,
      "outputs": [
        {
          "output_type": "stream",
          "name": "stdout",
          "text": [
            "hello world\n"
          ]
        }
      ]
    },
    {
      "cell_type": "code",
      "source": [
        "##bacic function with parameter\n",
        "\n",
        "def cube(num):\n",
        "  out = num**3\n",
        "  return (out)\n"
      ],
      "metadata": {
        "id": "w9TaPcjZLU4s"
      },
      "execution_count": 4,
      "outputs": []
    },
    {
      "cell_type": "code",
      "source": [
        "##calling out function \n",
        "\n",
        "cube1 = cube(4)\n",
        "print(cube1)"
      ],
      "metadata": {
        "colab": {
          "base_uri": "https://localhost:8080/"
        },
        "id": "WdD7eBBWLuZB",
        "outputId": "b7396689-fad0-427e-e921-69f2e7df3a25"
      },
      "execution_count": 5,
      "outputs": [
        {
          "output_type": "stream",
          "name": "stdout",
          "text": [
            "64\n"
          ]
        }
      ]
    },
    {
      "cell_type": "code",
      "source": [
        "##function to return the factorial of number\n",
        "\n",
        "def factorial(n):\n",
        "  if n > 1:\n",
        "    return n * factorial(n-1)\n",
        "  else:\n",
        "    return n\n",
        "\n",
        "fact = factorial(5)\n",
        "print(fact)\n"
      ],
      "metadata": {
        "colab": {
          "base_uri": "https://localhost:8080/"
        },
        "id": "E3FtlJXdMGzm",
        "outputId": "2254f94f-2899-45b7-b279-9446cdaab7f9"
      },
      "execution_count": 7,
      "outputs": [
        {
          "output_type": "stream",
          "name": "stdout",
          "text": [
            "120\n"
          ]
        }
      ]
    },
    {
      "cell_type": "code",
      "source": [
        "### when we don't know how many value we are going to pass then we use *args as parameter\n",
        "## so we can pass as many value u need to pass\n",
        "\n",
        "def submition(*args):\n",
        "  print(args)\n",
        "  return sum(args)\n",
        "\n",
        "print(submition(1,2,3,4))"
      ],
      "metadata": {
        "colab": {
          "base_uri": "https://localhost:8080/"
        },
        "id": "IZXgijTPPg9p",
        "outputId": "21ecad6a-835a-467b-8a63-362fb91163bf"
      },
      "execution_count": 9,
      "outputs": [
        {
          "output_type": "stream",
          "name": "stdout",
          "text": [
            "(1, 2, 3, 4)\n",
            "10\n"
          ]
        }
      ]
    },
    {
      "cell_type": "code",
      "source": [
        "##Lamda function in pyhton\n",
        "\n",
        "developer = \"khushmit sonar\"\n",
        "string_to_list = lambda x: x.split()\n",
        "print(string_to_list(developer))\n",
        "print(type(developer))  ##type is used to check the data type of variable\n",
        "print(type(string_to_list))\n"
      ],
      "metadata": {
        "colab": {
          "base_uri": "https://localhost:8080/"
        },
        "id": "-69zyR6BRlYK",
        "outputId": "b04cb47a-88d4-4850-d5ca-1e7a1f2d03f5"
      },
      "execution_count": 13,
      "outputs": [
        {
          "output_type": "stream",
          "name": "stdout",
          "text": [
            "['khushmit', 'sonar']\n",
            "<class 'str'>\n",
            "<class 'function'>\n"
          ]
        }
      ]
    },
    {
      "cell_type": "code",
      "source": [
        " multiple = lambda a , b: a*b\n",
        " print(multiple(2,5))"
      ],
      "metadata": {
        "colab": {
          "base_uri": "https://localhost:8080/"
        },
        "id": "yXVuyBcpVIt4",
        "outputId": "dc5db235-ea9b-41b6-fd7e-573dcca716d5"
      },
      "execution_count": 14,
      "outputs": [
        {
          "output_type": "stream",
          "name": "stdout",
          "text": [
            "10\n"
          ]
        }
      ]
    }
  ]
}