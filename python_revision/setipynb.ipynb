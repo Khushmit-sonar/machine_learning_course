{
  "nbformat": 4,
  "nbformat_minor": 0,
  "metadata": {
    "colab": {
      "provenance": []
    },
    "kernelspec": {
      "name": "python3",
      "display_name": "Python 3"
    },
    "language_info": {
      "name": "python"
    }
  },
  "cells": [
    {
      "cell_type": "markdown",
      "source": [
        "# Set\n",
        "\n",
        " The values True and 1 are considered the same value in sets, and are treated as duplicates:\n",
        "\n",
        "**Unchangeable:**\n",
        "Set items are unchangeable, meaning that we cannot change the items after the set has been created.\n",
        "\n",
        "Once a set is created, you cannot change its items, but you can remove items and add new items.\n",
        "\n",
        "\n",
        "**Unordered**\n",
        "Unordered means that the items in a set do not have a defined order.\n",
        "\n",
        "Set items can appear in a different order every time you use them, and cannot be referred to by index or key."
      ],
      "metadata": {
        "id": "B9T89OCsjKEm"
      }
    },
    {
      "cell_type": "code",
      "source": [
        "list = [\"a\",\"b\",\"c\",\"s\",\"a\"]\n",
        "\n",
        "converted = set(list)\n",
        "print(converted)"
      ],
      "metadata": {
        "colab": {
          "base_uri": "https://localhost:8080/"
        },
        "id": "aYF02WjJmCMN",
        "outputId": "58446cc5-7ada-4f28-ab85-c6bdef23129c"
      },
      "execution_count": 3,
      "outputs": [
        {
          "output_type": "stream",
          "name": "stdout",
          "text": [
            "{'c', 'b', 'a', 's'}\n"
          ]
        }
      ]
    },
    {
      "cell_type": "code",
      "source": [
        "\n",
        "\n",
        "a ={\"ram\",\"smit\",\"lalit\",\"yash\",\"ram\"}\n",
        "b={\"ram\",\"sarthak\",\"pratik\",\"suyash\"}\n",
        "##intersecton is used to see the common value in the 2 set\n",
        "print(\"intersection: \")\n",
        "print(a.intersection(b))\n",
        "\n",
        "##union is going to combine the two set\n",
        "print(\"union\")\n",
        "print(a.union(b))\n",
        "\n",
        "##difference mean what are the different value in a set which are not in b set\n",
        "print(\"difference\")\n",
        "print(a.difference(b))"
      ],
      "metadata": {
        "colab": {
          "base_uri": "https://localhost:8080/"
        },
        "id": "oUI2qBoynLLh",
        "outputId": "6ba42311-4359-4ff2-8f75-cd16f799ba98"
      },
      "execution_count": 10,
      "outputs": [
        {
          "output_type": "stream",
          "name": "stdout",
          "text": [
            "intersection: \n",
            "{'ram'}\n",
            "union\n",
            "{'sarthak', 'lalit', 'ram', 'pratik', 'yash', 'smit', 'suyash'}\n",
            "difference\n",
            "{'yash', 'smit', 'lalit'}\n"
          ]
        }
      ]
    },
    {
      "cell_type": "code",
      "source": [
        "grade={\"a\",\"b\",\"c\",\"d\",\"e\"}\n",
        "\n",
        "##to check if any element present in set or not\n",
        "\n",
        "print(\"a\" in grade)\n",
        "\n",
        "print(\"g\" in grade)"
      ],
      "metadata": {
        "colab": {
          "base_uri": "https://localhost:8080/"
        },
        "id": "Hdum1nYOpUYp",
        "outputId": "b1f612c5-d9a6-42f4-f7f9-f634a5d80b61"
      },
      "execution_count": 14,
      "outputs": [
        {
          "output_type": "stream",
          "name": "stdout",
          "text": [
            "True\n",
            "False\n"
          ]
        }
      ]
    },
    {
      "cell_type": "code",
      "source": [
        "grade={\"a\",\"b\",\"c\",\"d\",\"e\"}##adding and removing from the grade\n",
        "\n",
        "print(\"adding to set\")\n",
        "grade.add(\"s\")\n",
        "print(grade)\n",
        "\n",
        "print(\"removing from the set: \")\n",
        "grade.remove(\"s\")\n",
        "print(grade)\n"
      ],
      "metadata": {
        "colab": {
          "base_uri": "https://localhost:8080/"
        },
        "id": "JL05YDGos0bo",
        "outputId": "9b2de2e1-fffd-4a92-cd09-b1f4170faeed"
      },
      "execution_count": 17,
      "outputs": [
        {
          "output_type": "stream",
          "name": "stdout",
          "text": [
            "adding to set\n",
            "{'c', 'd', 's', 'a', 'e', 'b'}\n",
            "removing from the set: \n",
            "{'c', 'd', 'a', 'e', 'b'}\n"
          ]
        }
      ]
    },
    {
      "cell_type": "code",
      "source": [
        "grade={\"a\",\"b\",\"c\",\"d\",\"e\"}\n",
        "\n",
        "for i in grade:\n",
        "  print(i)"
      ],
      "metadata": {
        "colab": {
          "base_uri": "https://localhost:8080/"
        },
        "id": "FwnrbmlEthwi",
        "outputId": "0dc93a3b-7d16-4faa-cbab-50d2ff8caf68"
      },
      "execution_count": 18,
      "outputs": [
        {
          "output_type": "stream",
          "name": "stdout",
          "text": [
            "c\n",
            "d\n",
            "a\n",
            "e\n",
            "b\n"
          ]
        }
      ]
    },
    {
      "cell_type": "code",
      "source": [
        "##subset\n",
        "a ={\"ram\",\"smit\",\"lalit\",\"yash\",\"ram\"}\n",
        "b={\"ram\",\"sarthak\",\"pratik\",\"suyash\"}\n",
        "\n",
        "print(a.issubset(b))\n",
        "\n",
        "##symmetric_difference\n",
        "print(a.symmetric_difference(b))"
      ],
      "metadata": {
        "colab": {
          "base_uri": "https://localhost:8080/"
        },
        "id": "zB7m19uIuA86",
        "outputId": "e2d8f69a-7c9c-4a03-ccd5-996eef6fe126"
      },
      "execution_count": 21,
      "outputs": [
        {
          "output_type": "stream",
          "name": "stdout",
          "text": [
            "False\n",
            "{'sarthak', 'lalit', 'pratik', 'yash', 'smit', 'suyash'}\n"
          ]
        }
      ]
    }
  ]
}