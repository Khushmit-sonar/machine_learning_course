{
  "nbformat": 4,
  "nbformat_minor": 0,
  "metadata": {
    "colab": {
      "provenance": []
    },
    "kernelspec": {
      "name": "python3",
      "display_name": "Python 3"
    },
    "language_info": {
      "name": "python"
    }
  },
  "cells": [
    {
      "cell_type": "markdown",
      "source": [
        "**Tuple**\n",
        "\n",
        "A double once created cannot be modified at all like\n",
        "\n",
        "We us this ( ) for tuple"
      ],
      "metadata": {
        "id": "I48unAJKhUxD"
      }
    },
    {
      "cell_type": "code",
      "source": [
        "##syntax or declaration of tuple\n",
        "first =(67,\"khushmit sonar\", \"A3\")\n",
        "print(first)\n",
        "print(first[0])"
      ],
      "metadata": {
        "colab": {
          "base_uri": "https://localhost:8080/"
        },
        "id": "gokN1zh1h5lA",
        "outputId": "887c27cf-14af-4f1a-f044-696e02fe5f79"
      },
      "execution_count": 3,
      "outputs": [
        {
          "output_type": "stream",
          "name": "stdout",
          "text": [
            "(67, 'khushmit sonar', 'A3')\n",
            "67\n"
          ]
        }
      ]
    },
    {
      "cell_type": "code",
      "source": [
        "city =(\"pune\",\"kondhwa\",411048)\n",
        "city\n",
        "new_city = city\n",
        "print(new_city)\n",
        "print(id(city))\n",
        "print(id(new_city))"
      ],
      "metadata": {
        "colab": {
          "base_uri": "https://localhost:8080/"
        },
        "id": "12qj7SAejj5w",
        "outputId": "6901decf-aaf6-4b34-ae9d-664924b739a3"
      },
      "execution_count": 6,
      "outputs": [
        {
          "output_type": "stream",
          "name": "stdout",
          "text": [
            "('pune', 'kondhwa', 411048)\n",
            "139705437870848\n",
            "139705437870848\n"
          ]
        }
      ]
    },
    {
      "cell_type": "code",
      "source": [
        "#we can also write tuple without bracket\n",
        "\n",
        "tuple = 1 ,\"hello\",67\n",
        "print(tuple)\n"
      ],
      "metadata": {
        "colab": {
          "base_uri": "https://localhost:8080/"
        },
        "id": "9XhMO84wkF3d",
        "outputId": "fae902f9-0783-438b-e695-c153efa8b039"
      },
      "execution_count": 7,
      "outputs": [
        {
          "output_type": "stream",
          "name": "stdout",
          "text": [
            "(1, 'hello', 67)\n"
          ]
        }
      ]
    },
    {
      "cell_type": "code",
      "source": [
        "##making the list into the tuple\n",
        "var1 = ([1,2,3],[4,5,6])\n",
        "print(var1)\n",
        "\n",
        "##we cant change the tuple but we can change the lists into the tuple\n",
        "print(\"after changing the value from the list of tuple\")\n",
        "var1[1][0] = 8\n",
        "print(var1)\n",
        "\n",
        "#we can also convert tuple to list and list to tuple\n",
        "convert_list = list(var1)\n",
        "print(type(convert_list))\n",
        "\n",
        "convert_tuple = tuple(convert_list)\n",
        "print(type(convert_tuple))\n"
      ],
      "metadata": {
        "colab": {
          "base_uri": "https://localhost:8080/",
          "height": 287
        },
        "id": "VuHMndtpk2Do",
        "outputId": "45c1e2e0-a51b-4b39-b54d-d9eeb70bc406"
      },
      "execution_count": 12,
      "outputs": [
        {
          "output_type": "stream",
          "name": "stdout",
          "text": [
            "([1, 2, 3], [4, 5, 6])\n",
            "after changing the value from the list of tuple\n",
            "([1, 2, 3], [8, 5, 6])\n",
            "<class 'list'>\n"
          ]
        },
        {
          "output_type": "error",
          "ename": "TypeError",
          "evalue": "ignored",
          "traceback": [
            "\u001b[0;31m---------------------------------------------------------------------------\u001b[0m",
            "\u001b[0;31mTypeError\u001b[0m                                 Traceback (most recent call last)",
            "\u001b[0;32m<ipython-input-12-b65440a1ff84>\u001b[0m in \u001b[0;36m<module>\u001b[0;34m\u001b[0m\n\u001b[1;32m     12\u001b[0m \u001b[0mprint\u001b[0m\u001b[0;34m(\u001b[0m\u001b[0mtype\u001b[0m\u001b[0;34m(\u001b[0m\u001b[0mconvert_list\u001b[0m\u001b[0;34m)\u001b[0m\u001b[0;34m)\u001b[0m\u001b[0;34m\u001b[0m\u001b[0;34m\u001b[0m\u001b[0m\n\u001b[1;32m     13\u001b[0m \u001b[0;34m\u001b[0m\u001b[0m\n\u001b[0;32m---> 14\u001b[0;31m \u001b[0mconvert_tuple\u001b[0m \u001b[0;34m=\u001b[0m \u001b[0mtuple\u001b[0m\u001b[0;34m(\u001b[0m\u001b[0mconvert_list\u001b[0m\u001b[0;34m)\u001b[0m\u001b[0;34m\u001b[0m\u001b[0;34m\u001b[0m\u001b[0m\n\u001b[0m\u001b[1;32m     15\u001b[0m \u001b[0mprint\u001b[0m\u001b[0;34m(\u001b[0m\u001b[0mtype\u001b[0m\u001b[0;34m(\u001b[0m\u001b[0mconvert_tuple\u001b[0m\u001b[0;34m)\u001b[0m\u001b[0;34m)\u001b[0m\u001b[0;34m\u001b[0m\u001b[0;34m\u001b[0m\u001b[0m\n",
            "\u001b[0;31mTypeError\u001b[0m: 'tuple' object is not callable"
          ]
        }
      ]
    },
    {
      "cell_type": "code",
      "source": [
        "##we can also conver"
      ],
      "metadata": {
        "id": "MBbETJaylvx-"
      },
      "execution_count": null,
      "outputs": []
    }
  ]
}