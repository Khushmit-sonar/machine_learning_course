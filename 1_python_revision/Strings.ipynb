{
  "nbformat": 4,
  "nbformat_minor": 0,
  "metadata": {
    "colab": {
      "provenance": []
    },
    "kernelspec": {
      "name": "python3",
      "display_name": "Python 3"
    },
    "language_info": {
      "name": "python"
    }
  },
  "cells": [
    {
      "cell_type": "markdown",
      "source": [
        "**String Values and operators**"
      ],
      "metadata": {
        "id": "KCMfD3fIBiCB"
      }
    },
    {
      "cell_type": "code",
      "source": [
        "x =\"Khushmit\"\n",
        "y=\"Sonar\"\n",
        "\n",
        "x,y"
      ],
      "metadata": {
        "colab": {
          "base_uri": "https://localhost:8080/"
        },
        "id": "-CZpIYXfBrQV",
        "outputId": "030ed9cc-7a7b-4be8-af39-dc18f8a3b151"
      },
      "execution_count": 1,
      "outputs": [
        {
          "output_type": "execute_result",
          "data": {
            "text/plain": [
              "('Khushmit', 'Sonar')"
            ]
          },
          "metadata": {},
          "execution_count": 1
        }
      ]
    },
    {
      "cell_type": "code",
      "source": [
        "len(x),len(y)"
      ],
      "metadata": {
        "colab": {
          "base_uri": "https://localhost:8080/"
        },
        "id": "fOQ524SZCB3f",
        "outputId": "729a3356-8aff-4a22-80c6-5c4a8c67dd9c"
      },
      "execution_count": 2,
      "outputs": [
        {
          "output_type": "execute_result",
          "data": {
            "text/plain": [
              "(8, 5)"
            ]
          },
          "metadata": {},
          "execution_count": 2
        }
      ]
    },
    {
      "cell_type": "code",
      "source": [
        "#lower and Up\n",
        "lower =\"hello my name is khushmit sonar\"\n",
        "print(smaller.upper())##lower to upper\n",
        "\n",
        "upper =\"HELLO MY NAME IS KHUSHMIT\"\n",
        "print(upper.lower())##upper to lower"
      ],
      "metadata": {
        "colab": {
          "base_uri": "https://localhost:8080/"
        },
        "id": "ZxABO8XcCIHH",
        "outputId": "2f6ff1c1-20b1-42f7-9ae2-5d46d931e74f"
      },
      "execution_count": 4,
      "outputs": [
        {
          "output_type": "stream",
          "name": "stdout",
          "text": [
            "HELLO MY NAME IS KHUSHMIT SONAR\n",
            "hello my name is khushmit\n"
          ]
        }
      ]
    },
    {
      "cell_type": "code",
      "source": [
        "##(rstrip) is used to remove the extra space from right side of the string\n",
        "\n",
        "some_sentence =\"hey, there i am learning machine learning     \"  #here is some extra spaces at the end of the sentence\n",
        "print(len(some_sentence))##before rstrip function\n",
        "after = some_sentence.rstrip()\n",
        "print(len(after))##after the rstrip function\n",
        "\n",
        "increment = '4%'\n",
        "print(increment.rstrip('%'))"
      ],
      "metadata": {
        "colab": {
          "base_uri": "https://localhost:8080/"
        },
        "id": "y7ub9ALjDC1Z",
        "outputId": "fe204d2d-8298-41ab-8aff-e9adc1aeecd5"
      },
      "execution_count": 9,
      "outputs": [
        {
          "output_type": "stream",
          "name": "stdout",
          "text": [
            "46\n",
            "41\n",
            "4\n"
          ]
        }
      ]
    },
    {
      "cell_type": "code",
      "source": [
        "### we can also use lstrip() function to remove the space or any from left side of the string "
      ],
      "metadata": {
        "id": "ad1MGUwGFHpj"
      },
      "execution_count": null,
      "outputs": []
    },
    {
      "cell_type": "code",
      "source": [
        "val = \"4 apple\"\n",
        "slicing = val[0]\n",
        "print(f\"value on zero index is {slicing}\")\n",
        "\n",
        "what = val[2:] #[2:] -> mean print string after 2 index\n",
        "print(what)\n",
        "name = \"cat\"\n",
        "print(what.replace(\"p\",\"@#\"))\n"
      ],
      "metadata": {
        "colab": {
          "base_uri": "https://localhost:8080/"
        },
        "id": "F3FQl-5DFc_L",
        "outputId": "d9b30f85-4f2c-4813-beca-e83805b1b9df"
      },
      "execution_count": 20,
      "outputs": [
        {
          "output_type": "stream",
          "name": "stdout",
          "text": [
            "value on zero index is 4\n",
            "apple\n",
            "a@#@#le\n"
          ]
        }
      ]
    },
    {
      "cell_type": "code",
      "source": [
        "#slicing by specifing by starting and ending index\n",
        "\n",
        "intro = \"hello i am completing my btech in computer science\"\n",
        "print(intro[2:10])## from a to n-1\n",
        "\n",
        "\n",
        "print(intro[ :-2])"
      ],
      "metadata": {
        "colab": {
          "base_uri": "https://localhost:8080/"
        },
        "id": "1WzJAABLI6dq",
        "outputId": "49953fc5-b206-4426-9032-f1615537b78e"
      },
      "execution_count": 23,
      "outputs": [
        {
          "output_type": "stream",
          "name": "stdout",
          "text": [
            "llo i am\n",
            "hello i am completing my btech in computer scien\n"
          ]
        }
      ]
    },
    {
      "cell_type": "code",
      "source": [
        "##skipping the value from string\n",
        "\n",
        "you = \"123456789\"\n",
        "print(you[1::2])\n",
        "\n",
        "#Q: print odd number from you\n",
        "print(you[0::2])\n"
      ],
      "metadata": {
        "colab": {
          "base_uri": "https://localhost:8080/"
        },
        "id": "gkFZofFGKLOO",
        "outputId": "eb033713-5077-4c53-ba3f-f75174a95260"
      },
      "execution_count": 25,
      "outputs": [
        {
          "output_type": "stream",
          "name": "stdout",
          "text": [
            "2468\n",
            "13579\n"
          ]
        }
      ]
    },
    {
      "cell_type": "code",
      "source": [
        "##Concatination\n",
        "\n",
        "f_name = \"khushmit\"\n",
        "l_name = \"sonar\"\n",
        "\n",
        "full = f_name+\" \"+l_name\n",
        "print(full)\n",
        "\n",
        "adding = f_name+ \" \"+l_name +\" is student at vu\"\n",
        "print(adding)"
      ],
      "metadata": {
        "colab": {
          "base_uri": "https://localhost:8080/"
        },
        "id": "qn8Kl7R3LJnI",
        "outputId": "bd982549-7233-41ca-cd16-56b687047c82"
      },
      "execution_count": 28,
      "outputs": [
        {
          "output_type": "stream",
          "name": "stdout",
          "text": [
            "khushmit sonar\n",
            "khushmit sonar is student at vu\n"
          ]
        }
      ]
    }
  ]
}