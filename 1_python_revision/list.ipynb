{
  "nbformat": 4,
  "nbformat_minor": 0,
  "metadata": {
    "colab": {
      "provenance": []
    },
    "kernelspec": {
      "name": "python3",
      "display_name": "Python 3"
    },
    "language_info": {
      "name": "python"
    }
  },
  "cells": [
    {
      "cell_type": "markdown",
      "source": [
        "# List\n",
        "**List is the data structure in the python**\n",
        "\n",
        "**In list we can store any type of data like numberic , string combine**\n",
        "\n",
        "**List are in the square brackets[ ]**"
      ],
      "metadata": {
        "id": "gZ9qYBZ0OeRP"
      }
    },
    {
      "cell_type": "code",
      "source": [
        "##syntax or declaration of list\n",
        "a =[]\n",
        "type(a)"
      ],
      "metadata": {
        "colab": {
          "base_uri": "https://localhost:8080/"
        },
        "id": "omjvD2cEOrwu",
        "outputId": "fb6ceec7-db90-4175-a90a-4ac9464e945f"
      },
      "execution_count": 1,
      "outputs": [
        {
          "output_type": "execute_result",
          "data": {
            "text/plain": [
              "list"
            ]
          },
          "metadata": {},
          "execution_count": 1
        }
      ]
    },
    {
      "cell_type": "code",
      "source": [
        "\n",
        "lang =['R','Python','Java','c/c++','Javascript',22] \n",
        "print(lang)\n",
        "type(lang)\n",
        "print(lang[0])##printing the element from list at index 0\n",
        "print(lang[1:4])##it will return value from (1 to 4-1)\n",
        "print(lang[-2])\n",
        "print(lang[:-2])\n"
      ],
      "metadata": {
        "colab": {
          "base_uri": "https://localhost:8080/"
        },
        "id": "9gcNnwQJO_Rs",
        "outputId": "c8a7d321-a8ed-4f53-e456-44d93a9cdddf"
      },
      "execution_count": 9,
      "outputs": [
        {
          "output_type": "stream",
          "name": "stdout",
          "text": [
            "['R', 'Python', 'Java', 'c/c++', 'Javascript', 22]\n",
            "R\n",
            "['Python', 'Java', 'c/c++']\n",
            "Javascript\n",
            "['R', 'Python', 'Java', 'c/c++']\n"
          ]
        }
      ]
    },
    {
      "cell_type": "code",
      "source": [
        "##append is put some value to the List\n",
        "fruits =[\"apple\",\"banana\",\"mango\",\"pinapple\",\"grapes\",\"orange\"]\n",
        "print(\"append: \")\n",
        "fruits.append(\"watermelon\")\n",
        "print(fruits)\n",
        "\n",
        "print(\"pop: \")\n",
        "fruits.pop(-1)\n",
        "print(fruits)\n",
        "\n",
        "print(\"remove: \")\n",
        "fruits.remove(\"mango\")\n",
        "print(fruits)\n",
        "\n",
        "\n",
        "\n",
        "\n"
      ],
      "metadata": {
        "colab": {
          "base_uri": "https://localhost:8080/"
        },
        "id": "zEf3m3GESHg1",
        "outputId": "fcbc72b7-6861-4000-a942-e4d2b59fb61b"
      },
      "execution_count": 16,
      "outputs": [
        {
          "output_type": "stream",
          "name": "stdout",
          "text": [
            "append: \n",
            "['apple', 'banana', 'mango', 'pinapple', 'grapes', 'orange', 'watermelon']\n",
            "pop: \n",
            "['apple', 'banana', 'mango', 'pinapple', 'grapes', 'orange']\n",
            "remove: \n",
            "['apple', 'banana', 'pinapple', 'grapes', 'orange']\n"
          ]
        },
        {
          "output_type": "execute_result",
          "data": {
            "text/plain": [
              "['apple', 'banana', 'pinapple', 'grapes', 'orange']"
            ]
          },
          "metadata": {},
          "execution_count": 16
        }
      ]
    },
    {
      "cell_type": "code",
      "source": [
        "#both cities and new_list are sharing the same memory location\n",
        "#so, the whatever we will append in the cities it will also reflect in new_list\n",
        "cities =[\"mumbai\", \"pune \",\"nagpur\",\"surat\",\"toranto\"]\n",
        "new_list = cities\n",
        "cities.append(\"Indore\")\n",
        "print(cities)\n",
        "\n",
        "##so, this both list are stored at same memory location\n",
        "\n",
        "print(id(cities))\n",
        "print(id(new_list))\n",
        "\n",
        "\n",
        "\n",
        "##we can copy the list then it will show different memory location\n",
        "another_list = cities.copy()\n",
        "print(id(another_list))"
      ],
      "metadata": {
        "colab": {
          "base_uri": "https://localhost:8080/"
        },
        "id": "OXtXyHGkWv2S",
        "outputId": "bd336a04-258b-4cfa-edf2-dffb92533b60"
      },
      "execution_count": 21,
      "outputs": [
        {
          "output_type": "stream",
          "name": "stdout",
          "text": [
            "['mumbai', 'pune ', 'nagpur', 'surat', 'toranto', 'Indore']\n",
            "140042019060416\n",
            "140042019060416\n",
            "140042018871680\n"
          ]
        }
      ]
    },
    {
      "cell_type": "code",
      "source": [
        "##split fuction is used to split the string into the list\n",
        "mail = \"hello you, you are doing an nice job. keeep it up\"\n",
        "\n",
        "print(\"#split every word from the list\")\n",
        "word = mail.split()\n",
        "print(word)\n",
        "\n",
        "print(\"split the word from the specific notaton like (.,/,..)\")\n",
        "sub_sentence = mail.split('.')\n",
        "print(sub_sentence)\n",
        "\n",
        "print(\"we can also join the string\")\n",
        "new_mail = \" \" .join(sub_sentence)\n",
        "print(new_mail)\n",
        "\n"
      ],
      "metadata": {
        "colab": {
          "base_uri": "https://localhost:8080/"
        },
        "id": "TPV0aIgrbATT",
        "outputId": "5acdd998-1b89-4dfd-c731-f4afc012385d"
      },
      "execution_count": 24,
      "outputs": [
        {
          "output_type": "stream",
          "name": "stdout",
          "text": [
            "#split every word from the list\n",
            "['hello', 'you,', 'you', 'are', 'doing', 'an', 'nice', 'job.', 'keeep', 'it', 'up']\n",
            "split the word from the specific notaton like (.,/,..)\n",
            "['hello you, you are doing an nice job', ' keeep it up']\n",
            "we can also join the string\n",
            "hello you, you are doing an nice job  keeep it up\n"
          ]
        }
      ]
    },
    {
      "cell_type": "code",
      "source": [
        "##here we are adding pune 6 times\n",
        "list1 =[\"pune\"]\n",
        "print(list1*6)\n",
        "##here adding two string\n",
        "print(list1 + list1)"
      ],
      "metadata": {
        "colab": {
          "base_uri": "https://localhost:8080/"
        },
        "id": "W1OEeQRvc9rx",
        "outputId": "33e6525b-7f13-496d-b259-0bc9fbe2c470"
      },
      "execution_count": 28,
      "outputs": [
        {
          "output_type": "stream",
          "name": "stdout",
          "text": [
            "['pune', 'pune', 'pune', 'pune', 'pune', 'pune']\n",
            "['pune', 'pune']\n"
          ]
        }
      ]
    },
    {
      "cell_type": "code",
      "source": [
        "num =[1,2,3,4,5,6,7,8,9]\n",
        "print(len(num))\n",
        "\n",
        "\n",
        "print(num[1::2])\n",
        "\n",
        "num[1]=\"hello\"\n",
        "num\n"
      ],
      "metadata": {
        "colab": {
          "base_uri": "https://localhost:8080/"
        },
        "id": "IbO7JaGwdsV4",
        "outputId": "6e0c50e1-3cc7-4272-e5c7-69ea1a745861"
      },
      "execution_count": 31,
      "outputs": [
        {
          "output_type": "stream",
          "name": "stdout",
          "text": [
            "9\n",
            "[2, 4, 6, 8]\n"
          ]
        },
        {
          "output_type": "execute_result",
          "data": {
            "text/plain": [
              "[1, 'hello', 3, 4, 5, 6, 7, 8, 9]"
            ]
          },
          "metadata": {},
          "execution_count": 31
        }
      ]
    },
    {
      "cell_type": "code",
      "source": [
        "digit = [2,3,6,1,7,4,5,9,8]\n",
        "\n",
        "print(sorted(digit))\n",
        "\n",
        "print(max(digit))## to get the maximum value from the list\n",
        "\n",
        "\n",
        "print(min(digit))##to get minimum value from the list\n"
      ],
      "metadata": {
        "colab": {
          "base_uri": "https://localhost:8080/"
        },
        "id": "T0JkPz2AeZAT",
        "outputId": "f15dcb9d-ad49-469e-cb8d-4374da1b73b4"
      },
      "execution_count": 34,
      "outputs": [
        {
          "output_type": "stream",
          "name": "stdout",
          "text": [
            "[1, 2, 3, 4, 5, 6, 7, 8, 9]\n",
            "9\n",
            "1\n"
          ]
        }
      ]
    },
    {
      "cell_type": "code",
      "source": [
        "##composit list mean list within the list\n",
        "\n",
        "lists = [[1,2],[3,4],[5,6],[7,8],[8,9]]\n",
        "lists\n",
        "\n",
        "print(lists[1])##print the list which is on the first position\n",
        "\n",
        "print(lists[0][1])##print the value of 0 index list of 1st value"
      ],
      "metadata": {
        "colab": {
          "base_uri": "https://localhost:8080/"
        },
        "id": "lZGeXTRhfEHl",
        "outputId": "3e0270e3-d1e9-4971-f9d5-2fe8047b79d0"
      },
      "execution_count": 37,
      "outputs": [
        {
          "output_type": "stream",
          "name": "stdout",
          "text": [
            "[3, 4]\n",
            "2\n"
          ]
        }
      ]
    }
  ]
}