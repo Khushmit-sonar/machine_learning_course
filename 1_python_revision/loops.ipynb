{
  "nbformat": 4,
  "nbformat_minor": 0,
  "metadata": {
    "colab": {
      "provenance": []
    },
    "kernelspec": {
      "name": "python3",
      "display_name": "Python 3"
    },
    "language_info": {
      "name": "python"
    }
  },
  "cells": [
    {
      "cell_type": "markdown",
      "source": [
        "**Looping**\n",
        "**IF ELSE Statement**"
      ],
      "metadata": {
        "id": "h0Ydsr9C2Zdi"
      }
    },
    {
      "cell_type": "code",
      "source": [
        "a = 5\n",
        "if a>50:\n",
        "  print(\"A is grater than 50\")\n",
        "else:\n",
        "  difference = 50 - a\n",
        "  print(f\"a is the smaller than 50 by {difference} units\")  "
      ],
      "metadata": {
        "colab": {
          "base_uri": "https://localhost:8080/"
        },
        "id": "qi-9L1oH2hQp",
        "outputId": "4dbbb574-3e95-4a37-88b9-faf504fc253c"
      },
      "execution_count": 2,
      "outputs": [
        {
          "output_type": "stream",
          "name": "stdout",
          "text": [
            "a is the smaller than 50 by45 units\n"
          ]
        }
      ]
    },
    {
      "cell_type": "markdown",
      "source": [
        "**if else elif Statement**"
      ],
      "metadata": {
        "id": "3VM98D6s4118"
      }
    },
    {
      "cell_type": "code",
      "source": [
        "num = int(input(\"Enter the number: \"))\n",
        "if num > 0:\n",
        "  print(\"num is the positive number\")\n",
        "elif num == 0:\n",
        "  print(\"num is zero\")\n",
        "else:\n",
        "  print(\"num is negative \")    "
      ],
      "metadata": {
        "colab": {
          "base_uri": "https://localhost:8080/"
        },
        "id": "6PDoiCA748Ih",
        "outputId": "e1c9332a-ad0a-49fd-f814-5398301ccdf4"
      },
      "execution_count": 5,
      "outputs": [
        {
          "output_type": "stream",
          "name": "stdout",
          "text": [
            "Enter the number: 2\n",
            "num is the positive number\n"
          ]
        }
      ]
    }
  ]
}