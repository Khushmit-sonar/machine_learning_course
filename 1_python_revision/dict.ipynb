{
  "nbformat": 4,
  "nbformat_minor": 0,
  "metadata": {
    "colab": {
      "provenance": []
    },
    "kernelspec": {
      "name": "python3",
      "display_name": "Python 3"
    },
    "language_info": {
      "name": "python"
    }
  },
  "cells": [
    {
      "cell_type": "code",
      "source": [
        "##syntax or declaration of dictionari\n",
        "\n",
        "empty_dict = {}\n",
        "print(type(empty_dict))"
      ],
      "metadata": {
        "colab": {
          "base_uri": "https://localhost:8080/"
        },
        "id": "yZTHwrv5yF2h",
        "outputId": "ace5fcdc-bf4c-4866-ae57-a6674230892a"
      },
      "execution_count": 1,
      "outputs": [
        {
          "output_type": "stream",
          "name": "stdout",
          "text": [
            "<class 'dict'>\n"
          ]
        }
      ]
    },
    {
      "cell_type": "code",
      "source": [
        "d ={\"name\":\"khushmit\",\"roll_no\":67,\"div\":\"A\",\"branch\":\"computer engineering\",\"list\":[1,2,3,4]}\n",
        "print(d)\n",
        "\n",
        "name = d[\"name\"]\n",
        "print(name)\n",
        "\n",
        "##changing the value of dict\n",
        "d[\"roll_no\"] = 48\n",
        "print(d)\n",
        "\n",
        "print(\"adding a new key value pair\")\n",
        "d[\"interest\"]= \"coding\"\n",
        "print(d)\n",
        "\n",
        "print(\"check if interest is in the dict\")\n",
        "print('interest' in d)\n",
        "\n",
        "print(\"### print all the keys in dict\")\n",
        "print(list(d.keys()))\n",
        "print(\"### print all the vlaues in dict\")\n",
        "print(list(d.values()))"
      ],
      "metadata": {
        "colab": {
          "base_uri": "https://localhost:8080/"
        },
        "id": "7mmpNt9Gyzn9",
        "outputId": "85267802-fb6c-4d60-b7ae-c86f5b518923"
      },
      "execution_count": 15,
      "outputs": [
        {
          "output_type": "stream",
          "name": "stdout",
          "text": [
            "{'name': 'khushmit', 'roll_no': 67, 'div': 'A', 'branch': 'computer engineering', 'list': [1, 2, 3, 4]}\n",
            "khushmit\n",
            "{'name': 'khushmit', 'roll_no': 48, 'div': 'A', 'branch': 'computer engineering', 'list': [1, 2, 3, 4]}\n",
            "adding a new key value pair\n",
            "{'name': 'khushmit', 'roll_no': 48, 'div': 'A', 'branch': 'computer engineering', 'list': [1, 2, 3, 4], 'interest': 'coding'}\n",
            "check if interest is in the dict\n",
            "True\n",
            "### print all the keys in dict\n",
            "['name', 'roll_no', 'div', 'branch', 'list', 'interest']\n",
            "### print all the vlaues in dict\n",
            "['khushmit', 48, 'A', 'computer engineering', [1, 2, 3, 4], 'coding']\n"
          ]
        }
      ]
    },
    {
      "cell_type": "code",
      "source": [
        "singer1 = dict(singer=\"honey sing\",songs=[\"blue eyes, night party\"])\n",
        "student1 = dict(student = \"khushmit\",div = \"A\",branch=\"computer engineering\")\n",
        "print(singer1)\n",
        "\n",
        "singer1.update(student1)\n",
        "print(singer1)\n",
        "\n",
        "\n",
        "print(\"##deleting a key value pair from dict\")\n",
        "del singer1['div']\n",
        "print(singer1)\n",
        "\n",
        "\n",
        "print(\"###check the total key value pair\")\n",
        "print(len(singer1))\n",
        "\n",
        "print(\"###printing key vlaue pair using the for loop\")\n",
        "for a,b in singer1.items():\n",
        "  print(a,\":\",b)"
      ],
      "metadata": {
        "colab": {
          "base_uri": "https://localhost:8080/"
        },
        "id": "ksDb850b20M-",
        "outputId": "67f2c556-c047-49d2-c631-71408f5e55f5"
      },
      "execution_count": 23,
      "outputs": [
        {
          "output_type": "stream",
          "name": "stdout",
          "text": [
            "{'singer': 'honey sing', 'songs': ['blue eyes, night party']}\n",
            "{'singer': 'honey sing', 'songs': ['blue eyes, night party'], 'student': 'khushmit', 'div': 'A', 'branch': 'computer engineering'}\n",
            "##deleting a key value pair from dict\n",
            "{'singer': 'honey sing', 'songs': ['blue eyes, night party'], 'student': 'khushmit', 'branch': 'computer engineering'}\n",
            "###check the total key value pair\n",
            "4\n",
            "###printing key vlaue pair using the for loop\n",
            "singer : honey sing\n",
            "songs : ['blue eyes, night party']\n",
            "student : khushmit\n",
            "branch : computer engineering\n"
          ]
        }
      ]
    },
    {
      "cell_type": "code",
      "source": [],
      "metadata": {
        "id": "q-VNiDQP5XgX"
      },
      "execution_count": null,
      "outputs": []
    }
  ]
}