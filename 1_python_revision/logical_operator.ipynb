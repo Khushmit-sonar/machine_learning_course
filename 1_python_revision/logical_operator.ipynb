{
  "nbformat": 4,
  "nbformat_minor": 0,
  "metadata": {
    "colab": {
      "provenance": []
    },
    "kernelspec": {
      "name": "python3",
      "display_name": "Python 3"
    },
    "language_info": {
      "name": "python"
    }
  },
  "cells": [
    {
      "cell_type": "markdown",
      "source": [
        "**Logical Operation in python**"
      ],
      "metadata": {
        "id": "5vQF1FUkzELR"
      }
    },
    {
      "cell_type": "code",
      "source": [
        "#Logical\n",
        "a = 3\n",
        "b = 4\n",
        "print(3<4)\n",
        "print(True and True)\n",
        "print(True and False)\n",
        "print(False and False)\n",
        "\n",
        "print(True or True)\n",
        "print(True or False)\n",
        "print(False or False)\n",
        "\n",
        "print(a!=b)\n",
        "\n",
        "print(True and not False)"
      ],
      "metadata": {
        "colab": {
          "base_uri": "https://localhost:8080/"
        },
        "id": "jk2sAxbmzN5U",
        "outputId": "ef1b4cb9-7a49-4445-c05a-3639007ae9f5"
      },
      "execution_count": 3,
      "outputs": [
        {
          "output_type": "stream",
          "name": "stdout",
          "text": [
            "True\n",
            "True\n",
            "False\n",
            "False\n",
            "True\n",
            "True\n",
            "False\n",
            "True\n",
            "True\n"
          ]
        }
      ]
    },
    {
      "cell_type": "code",
      "source": [],
      "metadata": {
        "id": "AvAw7jL20zNV"
      },
      "execution_count": null,
      "outputs": []
    }
  ]
}